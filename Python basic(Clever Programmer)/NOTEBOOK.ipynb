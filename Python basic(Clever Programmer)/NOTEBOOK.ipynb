{
 "cells": [
  {
   "cell_type": "code",
   "execution_count": 1,
   "metadata": {},
   "outputs": [
    {
     "name": "stdout",
     "output_type": "stream",
     "text": [
      "hello wor\n"
     ]
    }
   ],
   "source": [
    "print('hello world')"
   ]
  },
  {
   "cell_type": "code",
   "execution_count": 2,
   "metadata": {},
   "outputs": [
    {
     "name": "stdout",
     "output_type": "stream",
     "text": [
      "['Hello', 'every', 'one', 'my', 'name', 'is', 'Angshu', 'and', 'I', 'am', 'a', 'great', 'guy', 'practicing', 'python']\n",
      "['Hello', 'every', 'one', 'my', 'name', 'is', 'Angshu']\n",
      "['python', 'practicing', 'guy', 'great', 'a', 'am', 'I', 'and', 'Angshu', 'is', 'name', 'my', 'one', 'every', 'Hello']\n",
      "python practicing guy great a am I and Angshu is name my one every Hello\n"
     ]
    }
   ],
   "source": [
    "#split and joins in Strings\n",
    "s=\"Hello every one my name is Angshu and I am a great guy practicing python\"\n",
    "l=s.split(' ')\n",
    "print(l)\n",
    "print(l[:7])\n",
    "l=l[::-1]\n",
    "print(l)\n",
    "joined=' '.join(l)\n",
    "#print(arr[1::-1])\n",
    "\n",
    "print(joined)"
   ]
  },
  {
   "cell_type": "code",
   "execution_count": 30,
   "metadata": {},
   "outputs": [
    {
     "name": "stdout",
     "output_type": "stream",
     "text": [
      "[4, 5, 8, 9, 12]\n",
      "[8, 9]\n",
      "[78, 45, 12, 9, 8, 5, 4]\n",
      "[4, 8, 12, 78]\n",
      "[5, 4]\n",
      "[9, 8]\n",
      "7\n",
      "[]\n",
      "[4]\n",
      "[4, 5]\n",
      "[4, 5, 8]\n",
      "[4, 5, 8, 9]\n",
      "[4, 5, 8, 9, 12]\n",
      "[4, 5, 8, 9, 12, 45]\n"
     ]
    }
   ],
   "source": [
    "arr=[4,5,8,9,12,45,78]\n",
    "#slicing\n",
    "print(arr[:5])\n",
    "print(arr[2:4])\n",
    "#Striding\n",
    "print(arr[::-1])\n",
    "print(arr[:7:2])\n",
    "print(arr[1::-1])\n",
    "#follow the order to the left\n",
    "print(arr[3:1:-1])\n",
    "n=len(arr)\n",
    "print(n)\n",
    "\n",
    "for i in range(len(arr)):\n",
    "  print(arr[0:i])"
   ]
  },
  {
   "cell_type": "code",
   "execution_count": 11,
   "metadata": {},
   "outputs": [
    {
     "output_type": "stream",
     "name": "stdout",
     "text": [
      "[('Turtule', 'slow', 'Reptile'), ('Elephant', 'big', 'Mammal')]\nTurtule\nslow\nReptile\n\n 4 is in the range\n"
     ]
    }
   ],
   "source": [
    "#Here is a example of tuple its a list but with a paranthesis its is un changable\n",
    "\n",
    "l1=(\"Turtule\",\"slow\",\"Reptile\")\n",
    "l2=(\"Elephant\",\"big\",\"Mammal\")\n",
    "lis=[l1,l2]#this is a list of tupules\n",
    "print(lis)\n",
    "#now the concept of unpacking\n",
    "for animals,typ,clas in lis:\n",
    "    if (typ==\"slow\"):\n",
    "\n",
    "     print(animals)\n",
    "     print(typ)\n",
    "     print(clas)\n",
    "     print()\n",
    "\n",
    "n=4\n",
    "if n in range(3,9):\n",
    "     print( \" %s is in the range\"%str(n))\n",
    "else :\n",
    "     print(\"The number is outside the given range.\")\n",
    "\n",
    "\n"
   ]
  },
  {
   "cell_type": "code",
   "execution_count": 8,
   "metadata": {},
   "outputs": [
    {
     "name": "stdout",
     "output_type": "stream",
     "text": [
      "{'apple', 'orange'}\n",
      "{'apple', 'orange', 'ball'}\n",
      "{'Ball', 'apple', 'orange', 'ball'}\n",
      "{1, 2, 3, 4, 5, 6, 7, 8, 9, 'apple'}\n",
      "[1, 2, 3, 4, 5, 6, 7, 8, 9, 'apple']\n",
      "{'apple'}\n",
      "[3, 4, 5, 6, 4, 4, 4, 6, 2, 1, 1, 2, 6, 7, 8, 9, 'apple']\n"
     ]
    }
   ],
   "source": [
    "#Sets use {} and there are no duplicates in sets datastructure\n",
    "#it is not iterable\n",
    "s={'apple','orange'}\n",
    "print(s)\n",
    "s.add('ball')\n",
    "print(s)\n",
    "s.add('Ball')\n",
    "print(s)\n",
    "m=[3,4,5,6,4,4,4,6,2,1,1,2,6,7,8,9,'apple']\n",
    "r_dups=set(m)\n",
    "r_dups1=list(r_dups)\n",
    "print(r_dups)\n",
    "print(r_dups1)\n",
    "l=r_dups.intersection(s)#intersection\n",
    "print(l)\n",
    "l1=r_dups.union(s)\n",
    "print(m)"
   ]
  },
  {
   "cell_type": "code",
   "execution_count": 13,
   "metadata": {},
   "outputs": [
    {
     "name": "stdout",
     "output_type": "stream",
     "text": [
      "{'phone': 9733373175, 'email': 'angshu101.9733@gmail.com'}\n"
     ]
    }
   ],
   "source": [
    "#dictionars\n",
    "grocerries={'Angshu':{'phone':9733373175,'email':'angshu101.9733@gmail.com'},\n",
    "'Angshu jio':[9641848054,'1904128@kiit.ac.in']}\n",
    "print(grocerries.get('Angshu'))\n",
    "#dict.items()\n",
    "#dict.keys()\n",
    "#dict.values()\n"
   ]
  },
  {
   "cell_type": "code",
   "execution_count": 1,
   "metadata": {},
   "outputs": [
    {
     "name": "stdout",
     "output_type": "stream",
     "text": [
      "dict_values([1, 2, 1, 1, 3, 3, 3, 5, 1, 1, 1, 1, 1])\n",
      "Word = My  Coun=  2\n",
      "Word = Angshu  Coun=  3\n",
      "Word = And  Coun=  3\n",
      "Word = of  Coun=  3\n",
      "Word = Since  Coun=  5\n"
     ]
    }
   ],
   "source": [
    "m=\"Heloo My My Name is Angshu Angshu And And of Since Since Since Since Since I am Angshu And the Son of of Abhit\"\n",
    "f=m.split(\" \")\n",
    "count=dict()\n",
    "for word in f:\n",
    "    if word in count:\n",
    "        count[word]+=1\n",
    "    else:\n",
    "        count[word]=1\n",
    "    \n",
    "print(count.values())\n",
    "tup=count.items()#tupules\n",
    "#tup=list(count.items()) casting to a list directly\n",
    "lis=[tup]\n",
    "for Name,Count in tup:\n",
    "    if(Count>1):\n",
    "     print(\"Word =\",Name,\" Coun= \",Count)\n",
    "     \n",
    "    \n"
   ]
  },
  {
   "cell_type": "code",
   "execution_count": 12,
   "metadata": {},
   "outputs": [
    {
     "output_type": "stream",
     "name": "stdout",
     "text": [
      "['DoctorStrange', 'SuperMan', 'Spider Man']\n['DoctorStrange', 'SuperMan', 'Spider Man']\n['DoctorStrange Fucked Girls', 'SuperMan Fucked Girls', 'Spider Man Fucked Girls']\n['DoctorStrangeis My superhero', 'SuperManis My superhero', 'Spider Manis My superhero']\n['Angshu', 'Ritik', 'Aditi', 'Rohan']\n['Angshu', 'Ritik']\n"
     ]
    }
   ],
   "source": [
    "#Comprehension of list it helps to write things in a simpler one liner way\n",
    "m=[\"DoctorStrange\",\"SuperMan\",\"Spider Man\"]\n",
    "p=[]\n",
    "for words in m:\n",
    "    p.append(words)\n",
    "print(p)\n",
    "# Alternative\n",
    "print([Alt for Alt in m ])# Comphrehension\n",
    "#we can do opperation in each element on the list\n",
    "l=[]\n",
    "for words in m:\n",
    "    l.append(words+\" Fucked Girls\")\n",
    "\n",
    "print(l)\n",
    "print([Alt1 +\"is My superhero\" for Alt1 in m ])# Comphrehension\n",
    "\n",
    "student_marks={\"Angshu\":99,\"Ritik\":99,\"Aditi\":89,\"Rohan\":79,\"Nairit\":70,\"Rishav\":49,\"Angshuman\":72,\"sitabjo\":20}\n",
    "l1=[]\n",
    "for marks in student_marks:\n",
    "    if (student_marks[marks] >75):\n",
    "        l1.append(marks)\n",
    "print(l1)\n",
    "lis1=[]\n",
    "print([marks for marks in student_marks if student_marks[marks]>90])\n"
   ]
  },
  {
   "cell_type": "code",
   "execution_count": 19,
   "metadata": {},
   "outputs": [
    {
     "output_type": "stream",
     "name": "stdout",
     "text": [
      "{'1904128@kiit.ac.in ', '1904175@kiit.ac.in ', '1904064@kiit.ac.in ', '1904145@kiit.ac.in ', '1904160@kiit.ac.in ', '1904149@kiit.ac.in ', '1904189@kiit.ac.in '}\n"
     ]
    }
   ],
   "source": [
    "#Regex using python\n",
    "import re\n",
    "text=\"Theere are several email Address in this String such as 1904128@kiit.ac.in 1904064@kiit.ac.in 1904160@kiit.ac.in 1904149@kiit.ac.in 1904149@kiit.ac.in 1904149@kiit.ac.in  angshu101.9733@gmail.com lipimajumdar101.9733@gmail.com randommail.com so the point is you will now Scape the email of kiit 1904175@kiit.ac.in  do you understand regex will be correct if you get the correct list 1904145@kiit.ac.in of this roll number 1904189@kiit.ac.in  \"\n",
    "pattern=re.compile(\"[0-9]+@[a-z]+\\.[a-z]+\\.[a-z]+ \")\n",
    "print(set(pattern.findall(text)))\n",
    "#print(result)"
   ]
  },
  {
   "cell_type": "code",
   "execution_count": 11,
   "metadata": {},
   "outputs": [
    {
     "output_type": "stream",
     "name": "stdout",
     "text": [
      "2021-01-13\n1999-10-05\n7771\n2021-01-23\n13\n2\n1\n \n \n2021-01-13 11:23:56.220250+00:00\n2021-01-13 16:53:56.220250+05:30\n \nJanuary 13, 2021\n"
     ]
    }
   ],
   "source": [
    "import datetime \n",
    "import pytz\n",
    "today=datetime.date.today()\n",
    "print(today)\n",
    "birthday=datetime.date(1999,10,5)\n",
    "print(birthday)\n",
    "days_since_birth= (today-birthday).days\n",
    "print(days_since_birth)\n",
    "t_delta=datetime.timedelta(days=10)\n",
    "print(today+t_delta)\n",
    "print(today.day)\n",
    "print(today.weekday())#Monday starts from zero\n",
    "print(today.month)\n",
    "\n",
    "print(\" \")\n",
    "print(\" \")\n",
    "date_today=datetime.datetime.now(tz=pytz.UTC)\n",
    "print(date_today)\n",
    "\n",
    "date_timePacific=date_today.astimezone(pytz.timezone('Asia/Kolkata'))\n",
    "print(date_timePacific)\n",
    "print(\" \")\n",
    "#for tz in pytz.all_timezones:\n",
    "    #print(tz)\n",
    "\n",
    "print(date_timePacific.strftime(\"%B %d, %Y\"))"
   ]
  },
  {
   "cell_type": "code",
   "execution_count": null,
   "metadata": {},
   "outputs": [],
   "source": []
  }
 ],
 "metadata": {
  "kernelspec": {
   "display_name": "Python 3",
   "language": "python",
   "name": "python3"
  },
  "language_info": {
   "codemirror_mode": {
    "name": "ipython",
    "version": 3
   },
   "file_extension": ".py",
   "mimetype": "text/x-python",
   "name": "python",
   "nbconvert_exporter": "python",
   "pygments_lexer": "ipython3",
   "version": "3.7.8-final"
  }
 },
 "nbformat": 4,
 "nbformat_minor": 2
}